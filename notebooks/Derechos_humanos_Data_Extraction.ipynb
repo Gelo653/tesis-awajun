{
 "cells": [
  {
   "cell_type": "code",
   "execution_count": null,
   "metadata": {},
   "outputs": [],
   "source": [
    "from bs4 import BeautifulSoup\n",
    "import sys, os"
   ]
  },
  {
   "cell_type": "code",
   "execution_count": null,
   "metadata": {},
   "outputs": [],
   "source": [
    "utils_dir = os.path.abspath('../src/utils')\n",
    "print(f\"Directorio de utils: {utils_dir}\")\n",
    "sys.path.append(utils_dir)\n",
    "\n",
    "from Data_Extraction_functions import extract_lines_from_text, write_lines_to_file"
   ]
  }
 ],
 "metadata": {
  "kernelspec": {
   "display_name": "tesis-awajun",
   "language": "python",
   "name": "python3"
  },
  "language_info": {
   "name": "python",
   "version": "3.11.9"
  }
 },
 "nbformat": 4,
 "nbformat_minor": 2
}
