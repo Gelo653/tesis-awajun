{
 "cells": [
  {
   "cell_type": "markdown",
   "metadata": {},
   "source": [
    "# Importaciones"
   ]
  },
  {
   "cell_type": "code",
   "execution_count": 8,
   "metadata": {},
   "outputs": [],
   "source": [
    "import camelot\n",
    "import numpy as np\n",
    "import pandas as pd\n",
    "import re"
   ]
  },
  {
   "cell_type": "code",
   "execution_count": 9,
   "metadata": {},
   "outputs": [],
   "source": [
    "pd.set_option('future.no_silent_downcasting', True)"
   ]
  },
  {
   "cell_type": "code",
   "execution_count": 10,
   "metadata": {},
   "outputs": [],
   "source": [
    "# Carga de documento\n",
    "pdf_path=(\"../data/pdf/Guia de comunicación intercultural en salud.pdf\")"
   ]
  },
  {
   "cell_type": "code",
   "execution_count": 11,
   "metadata": {},
   "outputs": [
    {
     "data": {
      "text/plain": [
       "<TableList n=51>"
      ]
     },
     "execution_count": 11,
     "metadata": {},
     "output_type": "execute_result"
    }
   ],
   "source": [
    "tables = camelot.read_pdf(pdf_path, pages='13-47')\n",
    "tables"
   ]
  },
  {
   "cell_type": "code",
   "execution_count": 12,
   "metadata": {},
   "outputs": [],
   "source": [
    "tables_df = []\n",
    "\n",
    "pattern = re.compile(r'\\(?\\s*CASTELLANO\\s*\\)?', re.IGNORECASE)\n",
    "\n",
    "for table in tables:\n",
    "    df = table.df\n",
    "    df.replace('', np.nan, inplace=True)\n",
    "    df.replace('\\n', '', regex=True, inplace=True)\n",
    "    df = df.dropna()\n",
    "\n",
    "    if not df.empty and pattern.search(df.iloc[0, 0]):\n",
    "        df = df.drop(df.index[0])\n",
    "\n",
    "    tables_df.append(df)"
   ]
  },
  {
   "cell_type": "code",
   "execution_count": 13,
   "metadata": {},
   "outputs": [],
   "source": [
    "file_es_path = \"../data/raw/2_Guia de comunicación intercultural en salud.es\"\n",
    "file_agr_path = \"../data/raw/2_Guia de comunicación intercultural en salud.agr\""
   ]
  },
  {
   "cell_type": "code",
   "execution_count": 14,
   "metadata": {},
   "outputs": [
    {
     "name": "stdout",
     "output_type": "stream",
     "text": [
      "Data has been written to the files successfully.\n"
     ]
    }
   ],
   "source": [
    "with open(file_es_path, 'w', encoding='utf-8') as file_es, open(file_agr_path, 'w', encoding='utf-8') as file_agr:\n",
    "    for df in tables_df:\n",
    "        for _, row in df.iterrows():\n",
    "            file_es.write(f\"{row[0]}\\n\") # Write the column to spanish file\n",
    "            file_agr.write(f\"{row[1]}\\n\") # Write the column to awajun file\n",
    "\n",
    "print(\"Data has been written to the files successfully.\")"
   ]
  }
 ],
 "metadata": {
  "kernelspec": {
   "display_name": "tesis-awajun",
   "language": "python",
   "name": "python3"
  },
  "language_info": {
   "codemirror_mode": {
    "name": "ipython",
    "version": 3
   },
   "file_extension": ".py",
   "mimetype": "text/x-python",
   "name": "python",
   "nbconvert_exporter": "python",
   "pygments_lexer": "ipython3",
   "version": "3.11.9"
  }
 },
 "nbformat": 4,
 "nbformat_minor": 2
}
